{
 "cells": [
  {
   "cell_type": "code",
   "execution_count": 2,
   "metadata": {},
   "outputs": [],
   "source": [
    "import torch\n",
    "from transformers import BertConfig, BertTokenizer, BertForMaskedLM\n",
    "\n",
    "\n",
    "# Load model.\n",
    "config = BertConfig.from_pretrained('bert-base-cased', cache_dir='../_cache')\n",
    "tokenizer = BertTokenizer.from_pretrained('bert-base-cased', cache_dir='../_cache')\n",
    "model = BertForMaskedLM.from_pretrained('bert-base-cased', cache_dir='../_cache')\n",
    "\n",
    "# Save it.\n",
    "model.save_pretrained('../_output/bert_base_cased/')\n",
    "tokenizer.save_pretrained('../_output/bert_base_cased/')"
   ]
  }
 ],
 "metadata": {
  "kernelspec": {
   "display_name": "Python 3",
   "language": "python",
   "name": "python3"
  },
  "language_info": {
   "codemirror_mode": {
    "name": "ipython",
    "version": 3
   },
   "file_extension": ".py",
   "mimetype": "text/x-python",
   "name": "python",
   "nbconvert_exporter": "python",
   "pygments_lexer": "ipython3",
   "version": "3.6.10"
  }
 },
 "nbformat": 4,
 "nbformat_minor": 4
}
