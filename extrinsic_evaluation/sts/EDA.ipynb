{
 "cells": [
  {
   "cell_type": "code",
   "execution_count": 5,
   "metadata": {},
   "outputs": [],
   "source": [
    "import os\n",
    "\n",
    "import pandas as pd\n",
    "import numpy as np\n",
    "\n",
    "import matplotlib.pyplot as plt\n",
    "import seaborn as sns"
   ]
  },
  {
   "cell_type": "markdown",
   "metadata": {},
   "source": [
    "## CCNA Book"
   ]
  },
  {
   "cell_type": "code",
   "execution_count": 3,
   "metadata": {},
   "outputs": [
    {
     "name": "stdout",
     "output_type": "stream",
     "text": [
      "File: /raid/antoloui/Master-thesis/Data/QA/Cisco_CCNA_without_QA.txt\n",
      "   Total number of sentences: 13465\n",
      "   Total number of words: 308466\n",
      "   Size of the vocabulary (unique words): 20986\n",
      "   Size of the file: 0.001741 GB\n"
     ]
    }
   ],
   "source": [
    "def get_info(filepath):\n",
    "    \"\"\"\n",
    "    \"\"\"\n",
    "    words = []\n",
    "    with open(filepath) as myfile:\n",
    "        for count_sent, line in enumerate(myfile):\n",
    "            words.extend(line.split())\n",
    "        vocab = set(words)\n",
    "        print(\"File: {}\".format(filepath))\n",
    "        print(\"   Total number of sentences: {}\".format(count_sent))\n",
    "        print(\"   Total number of words: {}\".format(len(words)))\n",
    "        print(\"   Size of the vocabulary (unique words): {}\".format(len(vocab)))\n",
    "        print(\"   Size of the file: {:2f} GB\".format(os.path.getsize(filepath)/(1024*1024*1024)))\n",
    "\n",
    "file = '/raid/antoloui/Master-thesis/Data/QA/Cisco_CCNA_without_QA.txt'\n",
    "get_info(file)"
   ]
  },
  {
   "cell_type": "markdown",
   "metadata": {},
   "source": [
    "## QA dataset"
   ]
  },
  {
   "cell_type": "code",
   "execution_count": 6,
   "metadata": {},
   "outputs": [
    {
     "data": {
      "text/html": [
       "<div>\n",
       "<style scoped>\n",
       "    .dataframe tbody tr th:only-of-type {\n",
       "        vertical-align: middle;\n",
       "    }\n",
       "\n",
       "    .dataframe tbody tr th {\n",
       "        vertical-align: top;\n",
       "    }\n",
       "\n",
       "    .dataframe thead th {\n",
       "        text-align: right;\n",
       "    }\n",
       "</style>\n",
       "<table border=\"1\" class=\"dataframe\">\n",
       "  <thead>\n",
       "    <tr style=\"text-align: right;\">\n",
       "      <th></th>\n",
       "      <th>Question</th>\n",
       "      <th>QuestionType</th>\n",
       "      <th>Answer</th>\n",
       "      <th>AnswerType</th>\n",
       "    </tr>\n",
       "  </thead>\n",
       "  <tbody>\n",
       "    <tr>\n",
       "      <th>0</th>\n",
       "      <td>Which protocols are examples of TCP/IP transpo...</td>\n",
       "      <td>Knowledge</td>\n",
       "      <td>UDP;TCP</td>\n",
       "      <td>Multiple</td>\n",
       "    </tr>\n",
       "    <tr>\n",
       "      <th>1</th>\n",
       "      <td>Which protocols are examples of TCP/IP data li...</td>\n",
       "      <td>Knowledge</td>\n",
       "      <td>Ethernet;PPP</td>\n",
       "      <td>Multiple</td>\n",
       "    </tr>\n",
       "    <tr>\n",
       "      <th>2</th>\n",
       "      <td>The process of HTTP asking TCP to send some da...</td>\n",
       "      <td>Knowledge</td>\n",
       "      <td>Adjacent-layer interaction</td>\n",
       "      <td>Unique</td>\n",
       "    </tr>\n",
       "    <tr>\n",
       "      <th>3</th>\n",
       "      <td>The process of TCP on one computer marking a T...</td>\n",
       "      <td>Knowledge</td>\n",
       "      <td>Same-layer interaction</td>\n",
       "      <td>Unique</td>\n",
       "    </tr>\n",
       "    <tr>\n",
       "      <th>4</th>\n",
       "      <td>The process of a web server adding a TCP heade...</td>\n",
       "      <td>Knowledge</td>\n",
       "      <td>Data encapsulation</td>\n",
       "      <td>Unique</td>\n",
       "    </tr>\n",
       "    <tr>\n",
       "      <th>...</th>\n",
       "      <td>...</td>\n",
       "      <td>...</td>\n",
       "      <td>...</td>\n",
       "      <td>...</td>\n",
       "    </tr>\n",
       "    <tr>\n",
       "      <th>194</th>\n",
       "      <td>Imagine a Cisco router model X. Cisco produced...</td>\n",
       "      <td>Scenario</td>\n",
       "      <td>&gt;3</td>\n",
       "      <td>Unique</td>\n",
       "    </tr>\n",
       "    <tr>\n",
       "      <th>195</th>\n",
       "      <td>What is the name of the new Cisco IOS image fi...</td>\n",
       "      <td>Knowledge</td>\n",
       "      <td>Universal</td>\n",
       "      <td>Unique</td>\n",
       "    </tr>\n",
       "    <tr>\n",
       "      <th>196</th>\n",
       "      <td>What command enables you to show the UDI of yo...</td>\n",
       "      <td>Knowledge</td>\n",
       "      <td>show license udi</td>\n",
       "      <td>Unique</td>\n",
       "    </tr>\n",
       "    <tr>\n",
       "      <th>197</th>\n",
       "      <td>What is a CLI command on a router that is usef...</td>\n",
       "      <td>Knowledge</td>\n",
       "      <td>license install url</td>\n",
       "      <td>Unique</td>\n",
       "    </tr>\n",
       "    <tr>\n",
       "      <th>198</th>\n",
       "      <td>What is a CLI command on a router that is usef...</td>\n",
       "      <td>Knowledge</td>\n",
       "      <td>license boot module c2900 technology-package t...</td>\n",
       "      <td>Unique</td>\n",
       "    </tr>\n",
       "  </tbody>\n",
       "</table>\n",
       "<p>199 rows × 4 columns</p>\n",
       "</div>"
      ],
      "text/plain": [
       "                                              Question QuestionType  \\\n",
       "0    Which protocols are examples of TCP/IP transpo...    Knowledge   \n",
       "1    Which protocols are examples of TCP/IP data li...    Knowledge   \n",
       "2    The process of HTTP asking TCP to send some da...    Knowledge   \n",
       "3    The process of TCP on one computer marking a T...    Knowledge   \n",
       "4    The process of a web server adding a TCP heade...    Knowledge   \n",
       "..                                                 ...          ...   \n",
       "194  Imagine a Cisco router model X. Cisco produced...     Scenario   \n",
       "195  What is the name of the new Cisco IOS image fi...    Knowledge   \n",
       "196  What command enables you to show the UDI of yo...    Knowledge   \n",
       "197  What is a CLI command on a router that is usef...    Knowledge   \n",
       "198  What is a CLI command on a router that is usef...    Knowledge   \n",
       "\n",
       "                                                Answer AnswerType  \n",
       "0                                              UDP;TCP   Multiple  \n",
       "1                                         Ethernet;PPP   Multiple  \n",
       "2                           Adjacent-layer interaction     Unique  \n",
       "3                               Same-layer interaction     Unique  \n",
       "4                                   Data encapsulation     Unique  \n",
       "..                                                 ...        ...  \n",
       "194                                                 >3     Unique  \n",
       "195                                          Universal     Unique  \n",
       "196                                   show license udi     Unique  \n",
       "197                                license install url     Unique  \n",
       "198  license boot module c2900 technology-package t...     Unique  \n",
       "\n",
       "[199 rows x 4 columns]"
      ]
     },
     "execution_count": 6,
     "metadata": {},
     "output_type": "execute_result"
    }
   ],
   "source": [
    "# Load dataframe.\n",
    "filepath = '/raid/antoloui/Master-thesis/Data/QA/questions.csv'\n",
    "df = pd.read_csv(filepath, sep=\";\")\n",
    "df"
   ]
  },
  {
   "cell_type": "code",
   "execution_count": 38,
   "metadata": {},
   "outputs": [
    {
     "data": {
      "image/png": "[encoded data removed]",
      "text/plain": [
       "<Figure size 1800x576 with 2 Axes>"
      ]
     },
     "metadata": {},
     "output_type": "display_data"
    }
   ],
   "source": [
    "fig = plt.figure(figsize=(25,8))\n",
    "sns.set(font_scale = 1)\n",
    "\n",
    "# Create countplot.\n",
    "ax1 = fig.add_subplot(1, 2, 1)\n",
    "ax1 = sns.countplot(x=\"QuestionType\", hue=\"AnswerType\", data=df)\n",
    "for p in ax1.patches:\n",
    "    ax1.annotate('{:.0f}'.format(p.get_height()), (p.get_x()+0.18, p.get_height()+0.5))\n",
    "\n",
    "# Create pie chart.\n",
    "ax2 = fig.add_subplot(1, 2, 2)\n",
    "df.QuestionType.value_counts().plot(kind='pie', ax=ax2, autopct='%1.1f%%', startangle=270, fontsize=12, labels=None, colors=sns.color_palette()[2:4])\n",
    "ax2.set_ylabel('')\n",
    "ax2.legend(title= 'QuestionType', loc=(0.8,0.8), labels=df.QuestionType.unique().tolist()[::-1])\n",
    "\n",
    "# Show the plot.\n",
    "plt.show()"
   ]
  },
  {
   "cell_type": "code",
   "execution_count": null,
   "metadata": {},
   "outputs": [],
   "source": []
  }
 ],
 "metadata": {
  "kernelspec": {
   "display_name": "Python 3",
   "language": "python",
   "name": "python3"
  },
  "language_info": {
   "codemirror_mode": {
    "name": "ipython",
    "version": 3
   },
   "file_extension": ".py",
   "mimetype": "text/x-python",
   "name": "python",
   "nbconvert_exporter": "python",
   "pygments_lexer": "ipython3",
   "version": "3.7.4"
  }
 },
 "nbformat": 4,
 "nbformat_minor": 4
}
