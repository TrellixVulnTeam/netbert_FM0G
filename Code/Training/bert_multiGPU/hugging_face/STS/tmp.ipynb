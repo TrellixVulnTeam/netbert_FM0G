{
 "cells": [
  {
   "cell_type": "code",
   "execution_count": 5,
   "metadata": {},
   "outputs": [
    {
     "name": "stdout",
     "output_type": "stream",
     "text": [
      "['If', 'ICMP', 'is', 'not', 'enabled', 'on', 'the', 'device,', 'the', 'device', 'is', 'moved', 'to', 'the', 'Unreachable', 'state.', 'See', 'Discovery', 'Life', 'Cycle', 'for', 'information', 'on', 'how', 'to', 'disable', 'ICMP', 'verification.', 'Gets', 'all', 'the', 'defined', 'credential', 'profiles,', 'based', 'on', 'the', 'IP', 'address.', 'See', 'Managing', 'Device', 'Credentials', 'to', 'understand', 'how', 'to', 'define', 'the', 'credential', 'profiles.', 'Checks', 'whether', 'the', 'SNMP', 'credentials', 'match.']\n",
      "['based', 'state.', 'Gets', 'IP', 'Credentials', 'information', 'understand', 'Unreachable', 'credential', 'define', 'See', 'how', 'defined', 'enabled', 'Life', 'ICMP', 'moved', 'whether', 'SNMP', 'the', 'Checks', 'device', 'Managing', 'for', 'device,', 'If', 'on', 'address.', 'verification.', 'not', 'is', 'profiles.', 'Cycle', 'credentials', 'disable', 'match.', 'profiles,', 'to', 'Discovery', 'all', 'Device']\n"
     ]
    }
   ],
   "source": [
    "filepath = './data/little_sample.txt'\n",
    "words = []\n",
    "with open(filepath) as infile:\n",
    "    for line in infile:\n",
    "        words.extend(line.split())    \n",
    "words = list(set(words))\n",
    "print(words)       "
   ]
  },
  {
   "cell_type": "code",
   "execution_count": null,
   "metadata": {},
   "outputs": [],
   "source": []
  }
 ],
 "metadata": {
  "kernelspec": {
   "display_name": "Python 3",
   "language": "python",
   "name": "python3"
  },
  "language_info": {
   "codemirror_mode": {
    "name": "ipython",
    "version": 3
   },
   "file_extension": ".py",
   "mimetype": "text/x-python",
   "name": "python",
   "nbconvert_exporter": "python",
   "pygments_lexer": "ipython3",
   "version": "3.7.6"
  }
 },
 "nbformat": 4,
 "nbformat_minor": 4
}
