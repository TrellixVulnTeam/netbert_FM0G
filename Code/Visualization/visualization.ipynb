{
 "cells": [
  {
   "cell_type": "markdown",
   "metadata": {},
   "source": [
    "# Visualizing the input data"
   ]
  },
  {
   "cell_type": "markdown",
   "metadata": {},
   "source": [
    "### Checking the size of the input data"
   ]
  },
  {
   "cell_type": "code",
   "execution_count": 28,
   "metadata": {},
   "outputs": [
    {
     "name": "stdout",
     "output_type": "stream",
     "text": [
      "Total number of sentences: 153475761\n",
      "Total number of words: 3338668340\n",
      "Size of the vocabulary (unique words): 4666656\n",
      "Size of the file: 20.392481 GB\n"
     ]
    }
   ],
   "source": [
    "import os\n",
    "\n",
    "words = []\n",
    "file_path = '/raid/antoloui/Master-thesis/Data/Cleaned/train.raw'\n",
    "with open(file_path) as myfile:\n",
    "    for count_sent, line in enumerate(myfile):\n",
    "        words.extend(line.split())\n",
    "    vocab = set(words)\n",
    "    print(\"Total number of sentences: {}\".format(count_sent))\n",
    "    print(\"Total number of words: {}\".format(len(words)))\n",
    "    print(\"Size of the vocabulary (unique words): {}\".format(len(vocab)))\n",
    "    print(\"Size of the file: {:2f} GB\".format(os.path.getsize(file_path)/(1024*1024*1024)))  "
   ]
  },
  {
   "cell_type": "markdown",
   "metadata": {},
   "source": [
    "### Showing the dataset statistics"
   ]
  },
  {
   "cell_type": "code",
   "execution_count": 29,
   "metadata": {},
   "outputs": [
    {
     "data": {
      "text/html": [
       "<!DOCTYPE html>\n",
       "<html lang=\"en\">\n",
       "<head>\n",
       "    <link rel=\"stylesheet\" href=\"https://stackpath.bootstrapcdn.com/bootstrap/4.2.1/css/bootstrap.min.css\"\n",
       "          integrity=\"sha384-GJzZqFGwb1QTTN6wy59ffF1BuGJpLSa9DkKMp0DgiMDm4iYMj70gZWKYbI706tWS\" crossorigin=\"anonymous\">\n",
       "\n",
       "    <style>\n",
       "        body {\n",
       "            padding-top: 60px; /* 60px to make the container go all the way to the bottom of the topbar */\n",
       "        }\n",
       "    </style>\n",
       "</head>\n",
       "\n",
       "<body>\n",
       "\n",
       "<div class=\"container-fluid\">\n",
       "    <div class=\"row\">\n",
       "        <table class=\"table table-hover table-bordered\">\n",
       "            <thead class=\"thead-light\">\n",
       "            <tr>\n",
       "                <th scope=\"col\"></th>\n",
       "                <th scope=\"col\">Type</th>\n",
       "                <th scope=\"col\">Examples</th>\n",
       "                <th scope=\"col\">Tokens / Frames</th>\n",
       "                <th scope=\"col\">Chars / Duration (ms)</th>\n",
       "            </tr>\n",
       "            </thead>\n",
       "            <tbody id=\"statsTable\">\n",
       "            \n",
       "            <tr>\n",
       "                <th scope=\"row\">Source 0</th>\n",
       "                <td>Text</td>\n",
       "                <td>153,475,762</td>\n",
       "                <td>3,338,668,340</td>\n",
       "                <td>21,687,116,771</td>\n",
       "            </tr>\n",
       "            \n",
       "            \n",
       "            </tbody>\n",
       "        </table>\n",
       "    </div>\n",
       "</div>\n",
       "\n",
       "<script src=\"https://code.jquery.com/jquery-3.3.1.slim.min.js\"\n",
       "        integrity=\"sha384-q8i/X+965DzO0rT7abK41JStQIAqVgRVzpbzo5smXKp4YfRvH+8abtTE1Pi6jizo\" crossorigin=\"anonymous\">\n",
       "</script>\n",
       "<script src=\"https://cdnjs.cloudflare.com/ajax/libs/popper.js/1.14.6/umd/popper.min.js\"\n",
       "        integrity=\"sha384-wHAiFfRlMFy6i5SRaxvfOCifBUQy1xHdJ/yoi7FRNXMRBu5WHdZYu1hA6ZOblgut\" crossorigin=\"anonymous\">\n",
       "</script>\n",
       "<script src=\"https://stackpath.bootstrapcdn.com/bootstrap/4.2.1/js/bootstrap.min.js\"\n",
       "        integrity=\"sha384-B0UglyR+jN6CkvvICOB2joaf5I4l3gm9GU6Hc1og6Ls7i6U/mkkaduKaBhlAXv9k\" crossorigin=\"anonymous\">\n",
       "</script>\n",
       "\n",
       "</body>\n",
       "</html>"
      ],
      "text/plain": [
       "<IPython.core.display.HTML object>"
      ]
     },
     "metadata": {},
     "output_type": "display_data"
    },
    {
     "data": {
      "image/png": "[encoded data removed]",
      "text/plain": [
       "<Figure size 504x360 with 1 Axes>"
      ]
     },
     "metadata": {
      "needs_background": "light"
     },
     "output_type": "display_data"
    }
   ],
   "source": [
    "import vizseq\n",
    "\n",
    "file_path = '/raid/antoloui/Master-thesis/Data/Cleaned/train.raw'\n",
    "vizseq.view_stats(file_path, None) #sentence length distribution"
   ]
  },
  {
   "cell_type": "markdown",
   "metadata": {},
   "source": [
    "### Showing the n-grams in the input data"
   ]
  },
  {
   "cell_type": "code",
   "execution_count": null,
   "metadata": {},
   "outputs": [],
   "source": [
    "import vizseq\n",
    "\n",
    "file_path = '/raid/antoloui/Master-thesis/Data/Cleaned/train.raw'\n",
    "vizseq.view_n_grams(file_path, k=100) ## k=number of n-grams to be shown (Default to 64)"
   ]
  },
  {
   "cell_type": "code",
   "execution_count": null,
   "metadata": {},
   "outputs": [],
   "source": []
  }
 ],
 "metadata": {
  "kernelspec": {
   "display_name": "Python 3",
   "language": "python",
   "name": "python3"
  },
  "language_info": {
   "codemirror_mode": {
    "name": "ipython",
    "version": 3
   },
   "file_extension": ".py",
   "mimetype": "text/x-python",
   "name": "python",
   "nbconvert_exporter": "python",
   "pygments_lexer": "ipython3",
   "version": "3.6.10"
  }
 },
 "nbformat": 4,
 "nbformat_minor": 4
}
