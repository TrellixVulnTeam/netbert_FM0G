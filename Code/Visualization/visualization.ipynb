{
 "cells": [
  {
   "cell_type": "markdown",
   "metadata": {},
   "source": [
    "# Visualizing the input data"
   ]
  },
  {
   "cell_type": "markdown",
   "metadata": {},
   "source": [
    "### Checking the size of the input data"
   ]
  },
  {
   "cell_type": "code",
   "execution_count": 1,
   "metadata": {},
   "outputs": [
    {
     "name": "stdout",
     "output_type": "stream",
     "text": [
      "Total number of words: 2636669160\n",
      "Size of the vocabulary (unique words): 3810094\n",
      "Size of the file: 16.155256633646786 GB\n"
     ]
    }
   ],
   "source": [
    "import os\n",
    "import vizseq\n",
    "\n",
    "file_path = '/raid/antoloui/Master-thesis/Data/Preprocessed/all_text.txt'\n",
    "with open(file_path, \"r+\") as f:\n",
    "    text = f.read()\n",
    "    words = text.split()\n",
    "    vocab = set(words)\n",
    "    print(\"Total number of words: {}\".format(len(words)))\n",
    "    print(\"Size of the vocabulary (unique words): {}\".format(len(vocab)))\n",
    "    print(\"Size of the file: {.:4f} GB\".format(os.path.getsize(file_path)/(1024*1024*1024)))"
   ]
  },
  {
   "cell_type": "markdown",
   "metadata": {},
   "source": [
    "### Showing the dataset statistics"
   ]
  },
  {
   "cell_type": "code",
   "execution_count": null,
   "metadata": {},
   "outputs": [],
   "source": [
    "vizseq.view_stats(file_path, None) #sentence length distribution"
   ]
  },
  {
   "cell_type": "markdown",
   "metadata": {},
   "source": [
    "### Showing the n-grams in the input data"
   ]
  },
  {
   "cell_type": "code",
   "execution_count": null,
   "metadata": {},
   "outputs": [],
   "source": [
    "vizseq.view_n_grams(src, k=100) ## k=number of n-grams to be shown (Default to 64)"
   ]
  },
  {
   "cell_type": "code",
   "execution_count": null,
   "metadata": {},
   "outputs": [],
   "source": []
  }
 ],
 "metadata": {
  "kernelspec": {
   "display_name": "Python 3",
   "language": "python",
   "name": "python3"
  },
  "language_info": {
   "codemirror_mode": {
    "name": "ipython",
    "version": 3
   },
   "file_extension": ".py",
   "mimetype": "text/x-python",
   "name": "python",
   "nbconvert_exporter": "python",
   "pygments_lexer": "ipython3",
   "version": "3.6.10"
  }
 },
 "nbformat": 4,
 "nbformat_minor": 4
}
