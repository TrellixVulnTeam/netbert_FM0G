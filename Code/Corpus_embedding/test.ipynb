{
 "cells": [
  {
   "cell_type": "code",
   "execution_count": 1,
   "metadata": {},
   "outputs": [
    {
     "name": "stderr",
     "output_type": "stream",
     "text": [
      "Using TensorFlow backend.\n"
     ]
    }
   ],
   "source": [
    "import os\n",
    "import time\n",
    "import datetime\n",
    "import argparse\n",
    "import warnings\n",
    "warnings.filterwarnings('ignore')\n",
    "\n",
    "import numpy as np\n",
    "import pandas as pd\n",
    "from tqdm import tqdm\n",
    "\n",
    "import torch\n",
    "from transformers import BertModel, BertTokenizer\n",
    "from keras.preprocessing.sequence import pad_sequences\n",
    "\n",
    "import parallel"
   ]
  },
  {
   "cell_type": "code",
   "execution_count": 2,
   "metadata": {},
   "outputs": [],
   "source": [
    "def gather_sentence_outputs(outputs):\n",
    "    \"\"\"\n",
    "    'outputs' is a list of 'output' of each GPU. As a reminder, each 'output' is a 3-tuple where:\n",
    "        - output[0] is the last_hidden_state, i.e a tensor of shape (batch_size, sequence_length, hidden_size).\n",
    "        - output[1] is the pooler_output, i.e. a tensor of shape (batch_size, hidden_size) being the last layer hidden-state of the first token of the sequence (classification token).\n",
    "        - output[2] are all hidden_states, i.e. a 13-tuple of torch tensors of shape (batch_size, sequence_length, hidden_size): 12 encoders-outputs + initial embedding outputs.\n",
    "    \"\"\"\n",
    "    # Extract the last_hidden_state in each GPU output ('gathered' is a list of nb_gpu x torch tensors)\n",
    "    gathered = [output[0] for output in outputs]\n",
    "    \n",
    "    # Concatenate the samples for that batch.\n",
    "    gathered = torch.cat(gathered, dim=0)\n",
    "    \n",
    "    # Detach output and return.\n",
    "    return gathered\n"
   ]
  },
  {
   "cell_type": "code",
   "execution_count": 3,
   "metadata": {},
   "outputs": [],
   "source": [
    "sentences = ['Sentence A',\n",
    "             'Sentence B',\n",
    "             'Sentence C',\n",
    "             'Sentence D',\n",
    "             'Sentence E',\n",
    "             'Sentence F',\n",
    "             'Sentence G',\n",
    "             'Sentence H',\n",
    "             'Sentence I',\n",
    "             'Sentence J',\n",
    "             'Sentence K',\n",
    "             'Sentence L',\n",
    "             'Sentence M',\n",
    "             'Sentence N',\n",
    "             'Sentence O',\n",
    "             'Sentence P',\n",
    "             'Sentence Q',\n",
    "             'Sentence R',\n",
    "             'Sentence S',\n",
    "             'Sentence T',\n",
    "             'Sentence V',\n",
    "             'Sentence W',\n",
    "             'Sentence X',\n",
    "             'Sentence Y',\n",
    "             'Sentence AA',\n",
    "             'Sentence AB',\n",
    "             'Sentence AC',\n",
    "             'Sentence AD',\n",
    "             'Sentence AE',\n",
    "             'Sentence AF',\n",
    "             'Sentence AG',\n",
    "             'Sentence AH'\n",
    "]"
   ]
  },
  {
   "cell_type": "code",
   "execution_count": 4,
   "metadata": {},
   "outputs": [],
   "source": [
    "model_name_or_path = '/raid/antoloui/Master-thesis/Code/_models/netbert/checkpoint-1027000/'\n",
    "cache_dir = '/raid/antoloui/Master-thesis/Code/_cache'\n",
    "batch_size = 16"
   ]
  },
  {
   "cell_type": "code",
   "execution_count": null,
   "metadata": {},
   "outputs": [],
   "source": []
  },
  {
   "cell_type": "code",
   "execution_count": null,
   "metadata": {},
   "outputs": [],
   "source": []
  },
  {
   "cell_type": "code",
   "execution_count": null,
   "metadata": {},
   "outputs": [],
   "source": []
  },
  {
   "cell_type": "code",
   "execution_count": null,
   "metadata": {},
   "outputs": [],
   "source": []
  },
  {
   "cell_type": "code",
   "execution_count": null,
   "metadata": {},
   "outputs": [],
   "source": []
  },
  {
   "cell_type": "code",
   "execution_count": null,
   "metadata": {},
   "outputs": [],
   "source": []
  },
  {
   "cell_type": "code",
   "execution_count": null,
   "metadata": {},
   "outputs": [],
   "source": []
  },
  {
   "cell_type": "code",
   "execution_count": null,
   "metadata": {},
   "outputs": [],
   "source": []
  },
  {
   "cell_type": "code",
   "execution_count": null,
   "metadata": {},
   "outputs": [],
   "source": []
  },
  {
   "cell_type": "code",
   "execution_count": null,
   "metadata": {},
   "outputs": [],
   "source": []
  }
 ],
 "metadata": {
  "kernelspec": {
   "display_name": "Python 3",
   "language": "python",
   "name": "python3"
  },
  "language_info": {
   "codemirror_mode": {
    "name": "ipython",
    "version": 3
   },
   "file_extension": ".py",
   "mimetype": "text/x-python",
   "name": "python",
   "nbconvert_exporter": "python",
   "pygments_lexer": "ipython3",
   "version": "3.6.10"
  }
 },
 "nbformat": 4,
 "nbformat_minor": 4
}
