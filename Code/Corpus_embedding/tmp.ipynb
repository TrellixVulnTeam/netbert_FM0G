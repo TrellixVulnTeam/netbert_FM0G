{
 "cells": [
  {
   "cell_type": "code",
   "execution_count": 2,
   "metadata": {},
   "outputs": [],
   "source": [
    "import os\n",
    "import glob\n",
    "\n",
    "import pandas as pd\n",
    "import numpy as np"
   ]
  },
  {
   "cell_type": "markdown",
   "metadata": {},
   "source": [
    "### Gather all .h5 files"
   ]
  },
  {
   "cell_type": "code",
   "execution_count": 3,
   "metadata": {},
   "outputs": [
    {
     "data": {
      "text/plain": [
       "['/raid/antoloui/Master-thesis/Data/Embeddings/test/dev01.h5',\n",
       " '/raid/antoloui/Master-thesis/Data/Embeddings/test/dev02.h5',\n",
       " '/raid/antoloui/Master-thesis/Data/Embeddings/test/dev00.h5']"
      ]
     },
     "execution_count": 3,
     "metadata": {},
     "output_type": "execute_result"
    }
   ],
   "source": [
    "dirpath = '/raid/antoloui/Master-thesis/Data/Embeddings/test/'\n",
    "\n",
    "# Get the names of all files in repo.\n",
    "filepaths = glob.glob(dirpath + '*.h5')\n",
    "for file in filepaths:\n",
    "    df_file = pd.read_hdf(file)"
   ]
  },
  {
   "cell_type": "code",
   "execution_count": null,
   "metadata": {},
   "outputs": [],
   "source": [
    "# Open dataframe.\n",
    "df = \n",
    "df"
   ]
  }
 ],
 "metadata": {
  "kernelspec": {
   "display_name": "Python 3",
   "language": "python",
   "name": "python3"
  },
  "language_info": {
   "codemirror_mode": {
    "name": "ipython",
    "version": 3
   },
   "file_extension": ".py",
   "mimetype": "text/x-python",
   "name": "python",
   "nbconvert_exporter": "python",
   "pygments_lexer": "ipython3",
   "version": "3.6.10"
  }
 },
 "nbformat": 4,
 "nbformat_minor": 4
}
