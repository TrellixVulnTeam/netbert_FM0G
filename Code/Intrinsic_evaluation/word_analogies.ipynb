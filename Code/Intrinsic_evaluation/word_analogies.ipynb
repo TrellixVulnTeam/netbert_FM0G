{
 "cells": [
  {
   "cell_type": "code",
   "execution_count": 41,
   "metadata": {},
   "outputs": [],
   "source": [
    "import numpy as np\n",
    "import pandas as pd\n",
    "from scipy.spatial.distance import cosine\n",
    "\n",
    "from sklearn.decomposition import PCA\n",
    "from sklearn.manifold import TSNE\n",
    "\n",
    "import torch\n",
    "from transformers import BertModel, BertTokenizer\n",
    "\n",
    "import matplotlib.pyplot as plt\n",
    "from mpl_toolkits.mplot3d import Axes3D\n",
    "import seaborn as sn"
   ]
  },
  {
   "cell_type": "markdown",
   "metadata": {},
   "source": [
    "## Example sentences"
   ]
  },
  {
   "cell_type": "code",
   "execution_count": 30,
   "metadata": {},
   "outputs": [],
   "source": [
    "words_of_interest = ['man', 'woman', 'king', 'queen']\n",
    "sentences = [\"A man is an adult male person\",\n",
    "             \"A woman is an adult female person.\",\n",
    "             \"A king is a male sovereign or monarch.\",\n",
    "             \"A queen is a female sovereign or monarch.\"]"
   ]
  },
  {
   "cell_type": "markdown",
   "metadata": {},
   "source": [
    "## Encode words"
   ]
  },
  {
   "cell_type": "code",
   "execution_count": 31,
   "metadata": {},
   "outputs": [
    {
     "name": "stdout",
     "output_type": "stream",
     "text": [
      "BERT-base\n",
      "   Loading pretrained model/tokenizer...\n",
      "   Tokenizing sentences...\n",
      "   Maximum length in dataset: 11\n",
      "   Padding/Truncating sentences according to the maximum length...\n",
      "   Creating attention masks...\n",
      "   Converting inputs to torch tensors...\n",
      "   Encoding sentences...\n",
      "NetBERT\n",
      "   Loading pretrained model/tokenizer...\n",
      "   Tokenizing sentences...\n",
      "   Maximum length in dataset: 11\n",
      "   Padding/Truncating sentences according to the maximum length...\n",
      "   Creating attention masks...\n",
      "   Converting inputs to torch tensors...\n",
      "   Encoding sentences...\n"
     ]
    }
   ],
   "source": [
    "def encode_words(model_name_or_path, sentences, words_of_interest):\n",
    "    \"\"\"\n",
    "    Given a list of sentences and a model, get the embeddings of each word in the sentences.\n",
    "    \"\"\"\n",
    "    print(\"   Loading pretrained model/tokenizer...\")\n",
    "    tokenizer = BertTokenizer.from_pretrained(model_name_or_path)\n",
    "    model = BertModel.from_pretrained(model_name_or_path, output_hidden_states=True, cache_dir ='../_cache') # Will output all hidden_states.\n",
    "\n",
    "    print(\"   Tokenizing sentences...\")\n",
    "    marked_text = [\"[CLS] \" + sent + \" [SEP]\" for sent in sentences]\n",
    "    tokenized_text = [tokenizer.tokenize(sent) for sent in marked_text]\n",
    "    indexed_tokens = [tokenizer.convert_tokens_to_ids(sent) for sent in tokenized_text]\n",
    "    #indexed_tokens = [tokenizer.encode(sent, add_special_tokens=True) for sent in sentences]\n",
    "\n",
    "    max_len = 0\n",
    "    for i in indexed_tokens:\n",
    "        if len(i) > max_len:\n",
    "            max_len = len(i)\n",
    "    print(\"   Maximum length in dataset: {}\".format(max_len))\n",
    "\n",
    "    print(\"   Padding/Truncating sentences according to the maximum length...\")\n",
    "    padded = np.array([i + [0]*(max_len-len(i)) for i in indexed_tokens])\n",
    "\n",
    "    print(\"   Creating attention masks...\")\n",
    "    attention_mask = np.where(padded != 0, 1, 0)  #returns ndarray which is 1 if padded != 0 is True and 0 if False.\n",
    "\n",
    "    print(\"   Converting inputs to torch tensors...\")\n",
    "    input_ids = torch.tensor(padded)  \n",
    "    attention_mask = torch.tensor(attention_mask)\n",
    "\n",
    "    print(\"   Encoding sentences...\")\n",
    "    with torch.no_grad():\n",
    "        # output is a 2-tuple where:\n",
    "        #  - output[0] is the last_hidden_state, i.e a tensor of shape (batch_size, sequence_length, hidden_size).\n",
    "        #  - output[1] is the pooler_output, i.e. a tensor of shape (batch_size, hidden_size) being the last layer hidden-state of the first token of the sequence (classification token).\n",
    "        #  - output[2] are all hidden_states, i.e. a 13-tuple of torch tensors of shape (batch_size, sequence_length, hidden_size): 12 encoders-outputs + initial embedding outputs.\n",
    "        output = model(input_ids, attention_mask=attention_mask)\n",
    "\n",
    "    # Concatenate the tensors for all layers. We use `stack` here to create a new dimension in the tensor.\n",
    "    hidden_states = torch.stack(output[2], dim=0)\n",
    "\n",
    "    # Switch around the “layers” and “tokens” dimensions with permute.\n",
    "    hidden_states = hidden_states.permute(1,2,0,3)\n",
    "    \n",
    "    # For each sentence, um the last four layers of each token as their embbeding.\n",
    "    sentence_vecs = []\n",
    "    for sent in hidden_states:\n",
    "        token_vecs = []\n",
    "        for token in sent:\n",
    "            sum_vec = torch.sum(token[-4:], dim=0)\n",
    "            token_vecs.append(np.array(sum_vec))\n",
    "        sentence_vecs.append(token_vecs)\n",
    "    sentence_vecs = np.array(sentence_vecs)\n",
    "        \n",
    "    # Create pandas dataframe.\n",
    "    cols = ['feat'+str(i) for i in range(sentence_vecs.shape[2])]\n",
    "    df = pd.DataFrame(columns=cols)\n",
    "    df['Token'] = None\n",
    "    df['Sentence'] = None\n",
    "    \n",
    "    for i, sent in enumerate(sentences):\n",
    "        tmp_df = pd.DataFrame(data=sentence_vecs[i,:,:], columns=cols)\n",
    "        tmp_df['Token'] = list(np.append(tokenized_text[i], ['[PAD]']*(max_len-len(tokenized_text[i]))))\n",
    "        tmp_df['Sentence'] = [sent]*max_len\n",
    "        df = pd.concat([df, tmp_df], axis=0)\n",
    "        \n",
    "    #df = df[df.Token == word_of_interest]\n",
    "    df = df.loc[df['Token'].isin(words_of_interest)]\n",
    "    df.reset_index(drop=True, inplace=True)\n",
    "    return df\n",
    "\n",
    "\n",
    "print(\"BERT-base\")\n",
    "bert_df = encode_words('bert-base-cased', sentences, words_of_interest)\n",
    "print(\"NetBERT\")\n",
    "netbert_df = encode_words('../_models/netbert/checkpoint-1027000/', sentences, words_of_interest)"
   ]
  },
  {
   "cell_type": "markdown",
   "metadata": {},
   "source": [
    "## Cosine similarity"
   ]
  },
  {
   "cell_type": "code",
   "execution_count": 32,
   "metadata": {},
   "outputs": [
    {
     "data": {
      "image/png": "[encoded data removed]",
      "text/plain": [
       "<Figure size 1440x576 with 4 Axes>"
      ]
     },
     "metadata": {
      "needs_background": "light"
     },
     "output_type": "display_data"
    }
   ],
   "source": [
    "def compute_cosine_matrix(embeddings):\n",
    "    \"\"\"\n",
    "    \"\"\"\n",
    "    matrix = np.zeros((len(sentences), len(sentences)))\n",
    "    for i, sent in enumerate(sentences):\n",
    "        for j, sent in enumerate(sentences):\n",
    "            matrix[i,j] = 1 - cosine(embeddings[i], embeddings[j])\n",
    "    return matrix\n",
    "\n",
    "\n",
    "# Get embeddings.\n",
    "bert_embeddings = bert_df.loc[:, ~bert_df.columns.isin(['Token','Sentence'])].values\n",
    "netbert_embeddings = netbert_df.loc[:, ~netbert_df.columns.isin(['Token','Sentence'])].values\n",
    "\n",
    "# Compute matrix.\n",
    "bert_matrix = compute_cosine_matrix(bert_embeddings)\n",
    "netbert_matrix = compute_cosine_matrix(netbert_embeddings)\n",
    "\n",
    "# Create dataframes.\n",
    "bert_cm = pd.DataFrame(bert_matrix, index=words_of_interest, columns=words_of_interest)\n",
    "netbert_cm = pd.DataFrame(netbert_matrix, index=words_of_interest, columns=words_of_interest)\n",
    "\n",
    "# Create heatmaps.\n",
    "fig = plt.figure(figsize=(20,8))\n",
    "ax1 = fig.add_subplot(1, 2, 1)\n",
    "sn.heatmap(bert_cm, annot=False, cmap=\"coolwarm\")\n",
    "ax1.set_xticklabels(ax1.get_xticklabels(), fontsize=10, horizontalalignment='center', rotation=0) \n",
    "ax1.set_yticklabels(ax1.get_yticklabels(), fontsize=10, rotation=0)\n",
    "ax1.set_title(\"BERT-base\")\n",
    "\n",
    "ax2 = fig.add_subplot(1, 2, 2)\n",
    "sn.heatmap(netbert_cm, annot=False, cmap=\"coolwarm\")\n",
    "ax2.set_xticklabels(ax2.get_xticklabels(), fontsize=10, horizontalalignment='center', rotation=0) \n",
    "ax2.set_yticklabels(ax2.get_yticklabels(), fontsize=10, rotation=0)\n",
    "ax2.set_title(\"NetBERT\")\n",
    "\n",
    "plt.tight_layout()\n",
    "plt.show()\n",
    "#plt.savefig(outdir+\"confusion_matrix.png\")"
   ]
  },
  {
   "cell_type": "markdown",
   "metadata": {},
   "source": [
    "## PCA"
   ]
  },
  {
   "cell_type": "code",
   "execution_count": 154,
   "metadata": {},
   "outputs": [
    {
     "name": "stdout",
     "output_type": "stream",
     "text": [
      "BERT-base - Explained variation per principal component: [0.6554163  0.26529393 0.07929009]\n",
      "NetBERT - Explained variation per principal component: [0.44062078 0.34890306 0.21047616]\n"
     ]
    },
    {
     "data": {
      "image/png": "[encoded data removed]",
      "text/plain": [
       "<Figure size 1584x504 with 2 Axes>"
      ]
     },
     "metadata": {
      "needs_background": "light"
     },
     "output_type": "display_data"
    }
   ],
   "source": [
    "def perform_pca(df, word_embeddings, ax, title):\n",
    "    \"\"\"\n",
    "    \"\"\"\n",
    "    pca = PCA(n_components=3, random_state = 42)\n",
    "    pca_result = pca.fit_transform(word_embeddings)\n",
    "\n",
    "    pca_df = df.copy(deep=True)\n",
    "    pca_df['pca-one'] = pca_result[:,0]\n",
    "    pca_df['pca-two'] = pca_result[:,1] \n",
    "    pca_df['pca-three'] = pca_result[:,2]\n",
    "    print(title + ' - Explained variation per principal component: {}'.format(pca.explained_variance_ratio_))\n",
    "\n",
    "    # Scatterplot.\n",
    "    ax.scatter(x = pca_df['pca-one'].values, \n",
    "               y = pca_df['pca-two'].values)\n",
    "    ax.set_title(title)\n",
    "    for line in pca_df.index:\n",
    "        ax.text(pca_df.loc[line,\"pca-one\"]+0.2, \n",
    "                 pca_df.loc[line,\"pca-two\"]+0.2, \n",
    "                 pca_df.loc[line,\"Token\"], \n",
    "                 horizontalalignment='left', \n",
    "                 size='medium', \n",
    "                 color='gray',\n",
    "                 weight='semibold')\n",
    "    \n",
    "    # Vectors.\n",
    "    man = pca_df.loc[pca_df.Token=='man', pca_df.columns.isin(['pca-one','pca-two'])].values[0].tolist()\n",
    "    king = pca_df.loc[pca_df.Token=='king', pca_df.columns.isin(['pca-one','pca-two'])].values[0].tolist()\n",
    "    woman = pca_df.loc[pca_df.Token=='woman', pca_df.columns.isin(['pca-one','pca-two'])].values[0].tolist()\n",
    "    queen = pca_df.loc[pca_df.Token=='queen', pca_df.columns.isin(['pca-one','pca-two'])].values[0].tolist()\n",
    "    ax.arrow(man[0], man[1], king[0]-man[0], king[1]-man[1], head_width=1, head_length=1, fc='lightblue', ec='lightblue', length_includes_head=True)\n",
    "    ax.arrow(woman[0], woman[1], queen[0]-woman[0], queen[1]-woman[1], head_width=1, head_length=1, fc='lightblue', ec='lightblue', length_includes_head=True)\n",
    "    return\n",
    "    \n",
    "\n",
    "\n",
    "fig, (ax1, ax2) = plt.subplots(nrows=1, ncols=2, figsize=(22,7))\n",
    "perform_pca(bert_df, bert_embeddings, ax1, 'BERT-base')\n",
    "perform_pca(netbert_df, netbert_embeddings, ax2, 'NetBERT')\n",
    "plt.show()"
   ]
  },
  {
   "cell_type": "code",
   "execution_count": null,
   "metadata": {},
   "outputs": [],
   "source": []
  },
  {
   "cell_type": "code",
   "execution_count": null,
   "metadata": {},
   "outputs": [],
   "source": []
  },
  {
   "cell_type": "code",
   "execution_count": null,
   "metadata": {},
   "outputs": [],
   "source": []
  },
  {
   "cell_type": "code",
   "execution_count": null,
   "metadata": {},
   "outputs": [],
   "source": []
  },
  {
   "cell_type": "code",
   "execution_count": null,
   "metadata": {},
   "outputs": [],
   "source": []
  },
  {
   "cell_type": "code",
   "execution_count": null,
   "metadata": {},
   "outputs": [],
   "source": [
    "# List Mark\n",
    "DNS\n",
    "mDNS\n",
    "\n",
    "LAN\n",
    "WAN\n",
    "CAN\n",
    "MAN\n",
    "\n",
    "ACL\n",
    "PACL\n",
    "VACL\n",
    "\n",
    "HSRP\n",
    "VRRP\n",
    "GLBP\n",
    "\n",
    "EIGRP\n",
    "IGRP\n",
    "BGP\n",
    "EBGP\n",
    "\n",
    "STP\n",
    "DTP\n",
    "VTP"
   ]
  }
 ],
 "metadata": {
  "kernelspec": {
   "display_name": "Python 3",
   "language": "python",
   "name": "python3"
  },
  "language_info": {
   "codemirror_mode": {
    "name": "ipython",
    "version": 3
   },
   "file_extension": ".py",
   "mimetype": "text/x-python",
   "name": "python",
   "nbconvert_exporter": "python",
   "pygments_lexer": "ipython3",
   "version": "3.6.10"
  }
 },
 "nbformat": 4,
 "nbformat_minor": 4
}
