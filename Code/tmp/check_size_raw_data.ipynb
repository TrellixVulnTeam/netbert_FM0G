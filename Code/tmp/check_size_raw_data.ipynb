{
 "cells": [
  {
   "cell_type": "markdown",
   "metadata": {},
   "source": [
    "# Check full size of original text"
   ]
  },
  {
   "cell_type": "code",
   "execution_count": 3,
   "metadata": {},
   "outputs": [
    {
     "name": "stderr",
     "output_type": "stream",
     "text": [
      "/home/antoloui/anaconda3/envs/data/lib/python3.7/site-packages/tqdm/std.py:658: FutureWarning: The Panel class is removed from pandas. Accessing it from the top-level namespace will also be removed in the next version\n",
      "  from pandas import Panel\n"
     ]
    }
   ],
   "source": [
    "from tqdm.notebook import tqdm\n",
    "tqdm.pandas()\n",
    "import pandas as pd\n",
    "import json"
   ]
  },
  {
   "cell_type": "code",
   "execution_count": 4,
   "metadata": {},
   "outputs": [
    {
     "data": {
      "application/vnd.jupyter.widget-view+json": {
       "model_id": "31f916c35f18466a857b2e699168b548",
       "version_major": 2,
       "version_minor": 0
      },
      "text/plain": [
       "HBox(children=(FloatProgress(value=0.0, max=13.0), HTML(value='')))"
      ]
     },
     "metadata": {},
     "output_type": "display_data"
    },
    {
     "name": "stdout",
     "output_type": "stream",
     "text": [
      "Extracting text from 11699 documents in file '1.json'...\n",
      "Extracting text from 32072 documents in file '2.json'...\n",
      "Extracting text from 8225 documents in file '3.json'...\n",
      "Extracting text from 77258 documents in file '4.json'...\n",
      "Extracting text from 46079 documents in file '5.json'...\n",
      "Extracting text from 28106 documents in file '6.json'...\n",
      "Extracting text from 27391 documents in file '7.json'...\n",
      "Extracting text from 24143 documents in file '8.json'...\n",
      "Extracting text from 22223 documents in file '9.json'...\n",
      "Extracting text from 20979 documents in file '10.json'...\n",
      "Extracting text from 57160 documents in file '11.json'...\n",
      "Extracting text from 85900 documents in file '12.json'...\n",
      "Extracting text from 793 documents in file '13.json'...\n",
      "\n",
      "Creating dataframe...\n",
      "Done !\n"
     ]
    }
   ],
   "source": [
    "rows = []\n",
    "for id_file in tqdm(range(1,14)):\n",
    "    file_path = \"../../Data/Original_data/\" + str(id_file) + \".json\"\n",
    "\n",
    "    with open(file_path) as f:\n",
    "        data = json.load(f)  # data is a list of dict of the form: {'text':['...'], 'uri':['...']}\n",
    "\n",
    "        print(\"Extracting text from {} documents in file '{}.json'...\".format(len(data), id_file))\n",
    "        for i, doc in enumerate(data):\n",
    "            text = doc.get('text') # Get the text of the current doc\n",
    "            if text is not None:\n",
    "                row_dict = {'Text': text[0], 'Length': len(text[0])}\n",
    "                rows.append(row_dict)\n",
    "\n",
    "print(\"Creating dataframe...\")\n",
    "df = pd.DataFrame(rows)\n",
    "print(\"Done !\")"
   ]
  },
  {
   "cell_type": "code",
   "execution_count": 5,
   "metadata": {},
   "outputs": [
    {
     "name": "stdout",
     "output_type": "stream",
     "text": [
      "Saving sentences to output file...\n",
      "Done !\n"
     ]
    }
   ],
   "source": [
    "print(\"Saving sentences to output file...\")\n",
    "sentences = \"\\n\\n\".join(df[\"Text\"])\n",
    "with open(\"../../Data/raw_text.txt\", \"w+\") as f:\n",
    "    f.write(sentences)\n",
    "print(\"Done !\")"
   ]
  },
  {
   "cell_type": "markdown",
   "metadata": {},
   "source": [
    "### Size of all raw text without preprocessing is 19Gb !"
   ]
  },
  {
   "cell_type": "code",
   "execution_count": 8,
   "metadata": {},
   "outputs": [
    {
     "name": "stdout",
     "output_type": "stream",
     "text": [
      "-rw-rw-r-- 1 antoloui antoloui 19G Jan 30 16:15 /home/antoloui/Master-thesis/Data/raw_text.txt\n"
     ]
    }
   ],
   "source": [
    "! ls -lh /home/antoloui/Master-thesis/Data/raw_text.txt"
   ]
  }
 ],
 "metadata": {
  "kernelspec": {
   "display_name": "Python 3",
   "language": "python",
   "name": "python3"
  },
  "language_info": {
   "codemirror_mode": {
    "name": "ipython",
    "version": 3
   },
   "file_extension": ".py",
   "mimetype": "text/x-python",
   "name": "python",
   "nbconvert_exporter": "python",
   "pygments_lexer": "ipython3",
   "version": "3.7.6"
  }
 },
 "nbformat": 4,
 "nbformat_minor": 4
}
