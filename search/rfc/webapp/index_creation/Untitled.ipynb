{
 "cells": [
  {
   "cell_type": "code",
   "execution_count": 14,
   "metadata": {},
   "outputs": [],
   "source": [
    "import re\n",
    "import pandas as pd"
   ]
  },
  {
   "cell_type": "code",
   "execution_count": 15,
   "metadata": {},
   "outputs": [
    {
     "data": {
      "text/html": [
       "<div>\n",
       "<style scoped>\n",
       "    .dataframe tbody tr th:only-of-type {\n",
       "        vertical-align: middle;\n",
       "    }\n",
       "\n",
       "    .dataframe tbody tr th {\n",
       "        vertical-align: top;\n",
       "    }\n",
       "\n",
       "    .dataframe thead th {\n",
       "        text-align: right;\n",
       "    }\n",
       "</style>\n",
       "<table border=\"1\" class=\"dataframe\">\n",
       "  <thead>\n",
       "    <tr style=\"text-align: right;\">\n",
       "      <th></th>\n",
       "      <th>Title</th>\n",
       "      <th>Text</th>\n",
       "    </tr>\n",
       "  </thead>\n",
       "  <tbody>\n",
       "    <tr>\n",
       "      <th>0</th>\n",
       "      <td>rfc1 - Host Software</td>\n",
       "      <td>The rfc1 is about Host Software. It has been w...</td>\n",
       "    </tr>\n",
       "    <tr>\n",
       "      <th>1</th>\n",
       "      <td>rfc1 - Host Software</td>\n",
       "      <td>CONTENTS</td>\n",
       "    </tr>\n",
       "    <tr>\n",
       "      <th>2</th>\n",
       "      <td>rfc1 - Host Software - INTRODUCTION - I. A Sum...</td>\n",
       "      <td>Messages</td>\n",
       "    </tr>\n",
       "    <tr>\n",
       "      <th>3</th>\n",
       "      <td>rfc1 - Host Software - INTRODUCTION - I. A Sum...</td>\n",
       "      <td>Links</td>\n",
       "    </tr>\n",
       "    <tr>\n",
       "      <th>4</th>\n",
       "      <td>rfc1 - Host Software - INTRODUCTION - I. A Sum...</td>\n",
       "      <td>IMP Transmission and Error Checking</td>\n",
       "    </tr>\n",
       "    <tr>\n",
       "      <th>...</th>\n",
       "      <td>...</td>\n",
       "      <td>...</td>\n",
       "    </tr>\n",
       "    <tr>\n",
       "      <th>58</th>\n",
       "      <td>rfc1 - Host Software - Closer Interaction</td>\n",
       "      <td>The specifications of DEL are under discussion...</td>\n",
       "    </tr>\n",
       "    <tr>\n",
       "      <th>59</th>\n",
       "      <td>rfc1 - Host Software - Open Questions</td>\n",
       "      <td>1. If the IMPs do code conversion, the checksu...</td>\n",
       "    </tr>\n",
       "    <tr>\n",
       "      <th>60</th>\n",
       "      <td>rfc1 - Host Software - Open Questions</td>\n",
       "      <td>2. The procedure for requesting the DEL front ...</td>\n",
       "    </tr>\n",
       "    <tr>\n",
       "      <th>61</th>\n",
       "      <td>rfc1 - Host Software</td>\n",
       "      <td>IV. Initial Experiments</td>\n",
       "    </tr>\n",
       "    <tr>\n",
       "      <th>62</th>\n",
       "      <td>rfc1 - Host Software - Experiment One</td>\n",
       "      <td>SRI is currently modifying their on-line retri...</td>\n",
       "    </tr>\n",
       "  </tbody>\n",
       "</table>\n",
       "<p>63 rows × 2 columns</p>\n",
       "</div>"
      ],
      "text/plain": [
       "                                                Title  \\\n",
       "0                                rfc1 - Host Software   \n",
       "1                                rfc1 - Host Software   \n",
       "2   rfc1 - Host Software - INTRODUCTION - I. A Sum...   \n",
       "3   rfc1 - Host Software - INTRODUCTION - I. A Sum...   \n",
       "4   rfc1 - Host Software - INTRODUCTION - I. A Sum...   \n",
       "..                                                ...   \n",
       "58          rfc1 - Host Software - Closer Interaction   \n",
       "59              rfc1 - Host Software - Open Questions   \n",
       "60              rfc1 - Host Software - Open Questions   \n",
       "61                               rfc1 - Host Software   \n",
       "62              rfc1 - Host Software - Experiment One   \n",
       "\n",
       "                                                 Text  \n",
       "0   The rfc1 is about Host Software. It has been w...  \n",
       "1                                            CONTENTS  \n",
       "2                                            Messages  \n",
       "3                                               Links  \n",
       "4                 IMP Transmission and Error Checking  \n",
       "..                                                ...  \n",
       "58  The specifications of DEL are under discussion...  \n",
       "59  1. If the IMPs do code conversion, the checksu...  \n",
       "60  2. The procedure for requesting the DEL front ...  \n",
       "61                            IV. Initial Experiments  \n",
       "62  SRI is currently modifying their on-line retri...  \n",
       "\n",
       "[63 rows x 2 columns]"
      ]
     },
     "execution_count": 15,
     "metadata": {},
     "output_type": "execute_result"
    }
   ],
   "source": [
    "filename='/raid/antoloui/THESIS/Master-thesis/_data/search/rfc/processed/rfc1.txt'\n",
    "\n",
    "# Read file.\n",
    "with open(filename) as f:\n",
    "    lines = f.readlines()\n",
    "    \n",
    "\n",
    "titles = []\n",
    "texts = []\n",
    "\n",
    "# For each line, extract title and text.\n",
    "for line in lines:\n",
    "    titles.append(line.split('*')[1].strip())\n",
    "    texts.append(line.split('*')[2].strip())\n",
    "\n",
    "# Create dataframe.\n",
    "d = {'Title':titles,'Text':texts}\n",
    "df = pd.DataFrame(d)\n",
    "df"
   ]
  },
  {
   "cell_type": "code",
   "execution_count": 13,
   "metadata": {},
   "outputs": [
    {
     "data": {
      "text/plain": [
       "'rfc1 - Host Software'"
      ]
     },
     "execution_count": 13,
     "metadata": {},
     "output_type": "execute_result"
    }
   ],
   "source": [
    "line = '* rfc1 - Host Software * The rfc1 is about Host Software. It has been writtent by S. Crocker, and published in April 1969'\n",
    "line.split('*')[1].strip()\n",
    "\n",
    "\n",
    "\n"
   ]
  },
  {
   "cell_type": "code",
   "execution_count": null,
   "metadata": {},
   "outputs": [],
   "source": []
  }
 ],
 "metadata": {
  "kernelspec": {
   "display_name": "Python 3",
   "language": "python",
   "name": "python3"
  },
  "language_info": {
   "codemirror_mode": {
    "name": "ipython",
    "version": 3
   },
   "file_extension": ".py",
   "mimetype": "text/x-python",
   "name": "python",
   "nbconvert_exporter": "python",
   "pygments_lexer": "ipython3",
   "version": "3.6.10"
  }
 },
 "nbformat": 4,
 "nbformat_minor": 4
}
